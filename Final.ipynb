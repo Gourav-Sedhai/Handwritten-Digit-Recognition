{
  "nbformat": 4,
  "nbformat_minor": 0,
  "metadata": {
    "colab": {
      "name": "Final.ipynb",
      "provenance": []
    },
    "kernelspec": {
      "name": "python3",
      "display_name": "Python 3"
    },
    "language_info": {
      "name": "python"
    }
  },
  "cells": [
    {
      "cell_type": "code",
      "metadata": {
        "id": "1vBJVaQ6STCK"
      },
      "source": [
        ""
      ],
      "execution_count": 16,
      "outputs": []
    },
    {
      "cell_type": "code",
      "metadata": {
        "id": "jjfiHK5XQ5A8"
      },
      "source": [
        "#Importing libraries\n",
        "import keras\n",
        "from keras.datasets import mnist\n",
        "from keras.models import Sequential\n",
        "from keras.layers import Dense\n",
        "from keras.layers import Dropout\n",
        "from keras.layers import Flatten\n",
        "from keras.layers import Convolution2D, MaxPooling2D\n",
        "from keras.utils import to_categorical\n",
        "from keras import backend as K\n",
        "import numpy\n",
        "import pandas as pd"
      ],
      "execution_count": 17,
      "outputs": []
    },
    {
      "cell_type": "code",
      "metadata": {
        "id": "nwOEqwrtRqyd"
      },
      "source": [
        "#Loading the dataset\n",
        "(X_train, y_train), (X_test, y_test) = mnist.load_data()"
      ],
      "execution_count": 18,
      "outputs": []
    },
    {
      "cell_type": "code",
      "metadata": {
        "colab": {
          "base_uri": "https://localhost:8080/",
          "height": 267
        },
        "id": "-hJ8C7J9S_zu",
        "outputId": "a45c6c12-302f-4d3f-bcd1-7974e2f35ce1"
      },
      "source": [
        "#Plotting\n",
        "import matplotlib.pyplot as plt\n",
        "\n",
        "for i in range(6):\n",
        "    plt.subplot(int('23' + str(i+1)))\n",
        "    plt.imshow(X_train[i], cmap = plt.get_cmap('gray'))"
      ],
      "execution_count": 19,
      "outputs": [
        {
          "output_type": "display_data",
          "data": {
            "image/png": "[encoded data removed]",
            "text/plain": [
              "<Figure size 432x288 with 6 Axes>"
            ]
          },
          "metadata": {
            "tags": [],
            "needs_background": "light"
          }
        }
      ]
    },
    {
      "cell_type": "code",
      "metadata": {
        "id": "lCMrIAPFTWe3"
      },
      "source": [
        "#Reshaping the matrix"
      ],
      "execution_count": 20,
      "outputs": []
    },
    {
      "cell_type": "code",
      "metadata": {
        "id": "nvKbhyxiTdEB"
      },
      "source": [
        "X_train = X_train.reshape(X_train.shape[0], 28, 28, 1).astype('float32')\n",
        "X_test = X_test.reshape(X_test.shape[0], 28, 28, 1).astype('float32')\n",
        "input_shape = (28, 28, 1)"
      ],
      "execution_count": 21,
      "outputs": []
    },
    {
      "cell_type": "code",
      "metadata": {
        "id": "e9IZk0QdTxJq"
      },
      "source": [
        "#Converting a class vector to binary class matrix\n",
        "y_train = to_categorical(y_train)\n",
        "y_test = to_categorical(y_test)"
      ],
      "execution_count": 22,
      "outputs": []
    },
    {
      "cell_type": "code",
      "metadata": {
        "id": "Fg5ZuowHT-4O"
      },
      "source": [
        "#Normalizing inputs\n",
        "X_train = X_train / 255\n",
        "X_test = X_test / 255"
      ],
      "execution_count": 23,
      "outputs": []
    },
    {
      "cell_type": "code",
      "metadata": {
        "id": "3ADjl9hgUG4A"
      },
      "source": [
        "#Defining CNN model\n",
        "def create_model():\n",
        "    num_classes = 10\n",
        "    model = Sequential()\n",
        "    model.add(Convolution2D(32, kernel_size = (3, 3), activation = 'relu', input_shape = input_shape))\n",
        "    model.add(Convolution2D(64, (3, 3), activation = 'relu'))\n",
        "    model.add(MaxPooling2D(pool_size = (2, 2)))\n",
        "    model.add(Dropout(0.25))\n",
        "    model.add(Flatten())\n",
        "    model.add(Dense(256, activation = 'relu'))\n",
        "    model.add(Dropout(0.5))\n",
        "    model.add(Dense(num_classes, activation = 'softmax'))\n",
        "    model.compile(loss = 'categorical_crossentropy', optimizer = 'adam', metrics = ['accuracy'])\n",
        "    return model\n",
        "\n",
        "#Building the model\n",
        "model = create_model()"
      ],
      "execution_count": 26,
      "outputs": []
    },
    {
      "cell_type": "code",
      "metadata": {
        "colab": {
          "base_uri": "https://localhost:8080/"
        },
        "id": "6pb9HDERVWzY",
        "outputId": "86711760-29b9-4d38-dce0-490b2a0f2b06"
      },
      "source": [
        "#Training the model\n",
        "model.fit(X_train, y_train, validation_data = (X_test, y_test), epochs = 10, batch_size = 200, verbose = 2)\n",
        "print(\"Model is trained\")\n",
        "\n",
        "#Saving the model as model.h5\n",
        "model.save('model.h5')\n",
        "print(\"Model is saved as model.h5\")"
      ],
      "execution_count": 28,
      "outputs": [
        {
          "output_type": "stream",
          "text": [
            "Epoch 1/10\n",
            "300/300 - 143s - loss: 0.1352 - accuracy: 0.9595 - val_loss: 0.0530 - val_accuracy: 0.9837\n",
            "Epoch 2/10\n",
            "300/300 - 142s - loss: 0.0679 - accuracy: 0.9794 - val_loss: 0.0343 - val_accuracy: 0.9887\n",
            "Epoch 3/10\n",
            "300/300 - 142s - loss: 0.0510 - accuracy: 0.9845 - val_loss: 0.0307 - val_accuracy: 0.9894\n",
            "Epoch 4/10\n",
            "300/300 - 142s - loss: 0.0401 - accuracy: 0.9877 - val_loss: 0.0289 - val_accuracy: 0.9904\n",
            "Epoch 5/10\n",
            "300/300 - 142s - loss: 0.0340 - accuracy: 0.9893 - val_loss: 0.0279 - val_accuracy: 0.9913\n",
            "Epoch 6/10\n",
            "300/300 - 141s - loss: 0.0279 - accuracy: 0.9912 - val_loss: 0.0276 - val_accuracy: 0.9911\n",
            "Epoch 7/10\n",
            "300/300 - 141s - loss: 0.0248 - accuracy: 0.9922 - val_loss: 0.0264 - val_accuracy: 0.9914\n",
            "Epoch 8/10\n",
            "300/300 - 141s - loss: 0.0232 - accuracy: 0.9923 - val_loss: 0.0259 - val_accuracy: 0.9915\n",
            "Epoch 9/10\n",
            "300/300 - 141s - loss: 0.0207 - accuracy: 0.9932 - val_loss: 0.0260 - val_accuracy: 0.9920\n",
            "Epoch 10/10\n",
            "300/300 - 141s - loss: 0.0178 - accuracy: 0.9941 - val_loss: 0.0253 - val_accuracy: 0.9931\n",
            "Model is trained\n",
            "Model is saved as model.h5\n"
          ],
          "name": "stdout"
        }
      ]
    },
    {
      "cell_type": "code",
      "metadata": {
        "colab": {
          "base_uri": "https://localhost:8080/"
        },
        "id": "FZsIpnROWeHz",
        "outputId": "3ea4b412-b542-428c-a38b-13ea8cea5368"
      },
      "source": [
        "#Evaluating the model\n",
        "scores = model.evaluate(X_test, y_test, verbose = 0)\n",
        "print(\"Error: %.2f%%\" % (100-scores[1]*100))\n",
        "print('Test loss:', scores[0])\n",
        "print('Test accuracy:', scores[1])"
      ],
      "execution_count": 31,
      "outputs": [
        {
          "output_type": "stream",
          "text": [
            "Error: 0.69%\n",
            "Test loss: 0.025263996794819832\n",
            "Test accuracy: 0.9930999875068665\n"
          ],
          "name": "stdout"
        }
      ]
    },
    {
      "cell_type": "code",
      "metadata": {
        "id": "ML3mUi-3hqYn"
      },
      "source": [
        ""
      ],
      "execution_count": null,
      "outputs": []
    }
  ]
}